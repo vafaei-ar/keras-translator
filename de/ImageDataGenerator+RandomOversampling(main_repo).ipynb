{
  "nbformat": 4,
  "nbformat_minor": 0,
  "metadata": {
    "colab": {
      "name": "ImageDataGenerator+RandomOversampling.ipynb",
      "provenance": [],
      "collapsed_sections": []
    },
    "kernelspec": {
      "name": "python3",
      "display_name": "Python 3"
    }
  },
  "cells": [
    {
      "cell_type": "code",
      "metadata": {
        "id": "kFNUzoSfnyHV"
      },
      "source": [
        "from imblearn.keras import balanced_batch_generator\r\n",
        "from keras.utils.data_utils import Sequence\r\n",
        "from imblearn.over_sampling import RandomOverSampler\r\n",
        "\r\n",
        "class ImageDataGenerator_RandomOversampling(Sequence):\r\n",
        "    def __init__(self, x, y, datagen, batch_size=32):\r\n",
        "        self.datagen = datagen\r\n",
        "        self.batch_size = min(batch_size, x.shape[0])\r\n",
        "        datagen.fit(x)\r\n",
        "        self.gen, self.steps_per_epoch = balanced_batch_generator(x.reshape(x.shape[0], -1), y, sampler=RandomOverSampler(), batch_size=self.batch_size, keep_sparse=True)\r\n",
        "        self._shape = (self.steps_per_epoch * batch_size, *x.shape[1:])\r\n",
        "        \r\n",
        "    def __len__(self):\r\n",
        "        return self.steps_per_epoch\r\n",
        "\r\n",
        "    def __getitem__(self, idx):\r\n",
        "        x_batch, y_batch = self.gen.__next__()\r\n",
        "        x_batch = x_batch.reshape(-1, *self._shape[1:])\r\n",
        "        return self.datagen.flow(x_batch, y_batch, batch_size=self.batch_size).next()\r\n",
        "\r\n",
        "\r\n",
        "balanced_gen = ImageDataGenerator_RandomOversampling(x, y, trainAug, batch_size=32)"
      ],
      "execution_count": null,
      "outputs": []
    },
    {
      "cell_type": "code",
      "metadata": {
        "id": "6ya6U9_PnyZl"
      },
      "source": [
        ""
      ],
      "execution_count": null,
      "outputs": []
    },
    {
      "cell_type": "code",
      "metadata": {
        "id": "IIx2ylpZnycI"
      },
      "source": [
        ""
      ],
      "execution_count": null,
      "outputs": []
    },
    {
      "cell_type": "code",
      "metadata": {
        "id": "Z9ycimnJnye1"
      },
      "source": [
        ""
      ],
      "execution_count": null,
      "outputs": []
    },
    {
      "cell_type": "code",
      "metadata": {
        "id": "QGVov87tnyie"
      },
      "source": [
        ""
      ],
      "execution_count": null,
      "outputs": []
    }
  ]
}